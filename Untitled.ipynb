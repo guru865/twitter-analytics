{
 "cells": [
  {
   "cell_type": "code",
   "execution_count": 2,
   "metadata": {
    "collapsed": true
   },
   "outputs": [],
   "source": [
    "consumer_key = 'twKlZH3suYkRJRYBnJFGLCCnL'\n",
    "consumer_secret = 'RBgW7DfW0FxcRl3VXm76tBJ02LmPVdQL8A5RoeMQrAF5lW61bq'\n",
    "access_token = '107991822-bjjdRQGUGSRLMtQVnOnSPY8yqLOVrf81uWCMvHKy'\n",
    "access_token_secret = 'V2lRDvXjveAh26FLhghMOt6aY0xWS9fARfDOCVOCs6sPg'"
   ]
  },
  {
   "cell_type": "code",
   "execution_count": 15,
   "metadata": {
    "collapsed": false
   },
   "outputs": [],
   "source": [
    "from tweepy import API\n",
    "from tweepy.auth import OAuthHandler\n",
    "from tweepy import Cursor\n",
    "import csv\n",
    "auth = OAuthHandler(consumer_key, consumer_secret)\n",
    "auth.set_access_token(access_token, access_token_secret)\n",
    "\n",
    "\n",
    "api = API(auth)\n",
    "\n",
    "# Open/Create a file to append data\n",
    "csvFile = open('tweet-analysis.csv', 'a')\n",
    "#Use csv Writer\n",
    "csvWriter = csv.writer(csvFile, lineterminator='\\n')\n",
    "\n",
    "for tweet in Cursor(api.search, q=\"java||scala\", lang='en', count='10000000').items() :\n",
    "        try:\n",
    "           csvWriter.writerow([tweet.created_at, tweet.text.encode('utf-8'), tweet.lang,tweet.geo])\n",
    "        except Exception as e:\n",
    "            print(e)\n",
    "            continue"
   ]
  },
  {
   "cell_type": "code",
   "execution_count": null,
   "metadata": {
    "collapsed": true
   },
   "outputs": [],
   "source": [
    "import json\n",
    "import pandas as pd\n",
    "import matplotlib.pyplot as plt\n",
    "\n",
    "tweets_data = read.csv('twitter-analysis.csv')\n",
    "\n"
   ]
  }
 ],
 "metadata": {
  "kernelspec": {
   "display_name": "Python 3",
   "language": "python",
   "name": "python3"
  },
  "language_info": {
   "codemirror_mode": {
    "name": "ipython",
    "version": 3
   },
   "file_extension": ".py",
   "mimetype": "text/x-python",
   "name": "python",
   "nbconvert_exporter": "python",
   "pygments_lexer": "ipython3",
   "version": "3.5.1"
  }
 },
 "nbformat": 4,
 "nbformat_minor": 0
}
